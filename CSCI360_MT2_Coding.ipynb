{
  "nbformat": 4,
  "nbformat_minor": 0,
  "metadata": {
    "colab": {
      "provenance": []
    },
    "kernelspec": {
      "name": "python3",
      "display_name": "Python 3"
    },
    "language_info": {
      "name": "python"
    }
  },
  "cells": [
    {
      "cell_type": "markdown",
      "source": [
        "#### Step 1: Load the digits dataset. see details here (https://scikit-learn.org/1.5/modules/generated/sklearn.datasets.load_digits.html)"
      ],
      "metadata": {
        "id": "S1qrIYEjTUCt"
      }
    },
    {
      "cell_type": "code",
      "execution_count": null,
      "metadata": {
        "id": "9GENuUThTOld"
      },
      "outputs": [],
      "source": [
        "### Your Code here"
      ]
    },
    {
      "cell_type": "markdown",
      "source": [
        "#### Step 2: Split the dataset into training and testing sets"
      ],
      "metadata": {
        "id": "wOCqmPe_Tljx"
      }
    },
    {
      "cell_type": "code",
      "source": [
        "### Your code here"
      ],
      "metadata": {
        "id": "K9OhvbcrTqPZ"
      },
      "execution_count": null,
      "outputs": []
    },
    {
      "cell_type": "markdown",
      "source": [
        "#### Step 3: Use MLPClassifier to build the neural network and train"
      ],
      "metadata": {
        "id": "VDOHjeOYTuQj"
      }
    },
    {
      "cell_type": "code",
      "source": [
        "### Your code here"
      ],
      "metadata": {
        "id": "902BtVNIT1Fe"
      },
      "execution_count": null,
      "outputs": []
    },
    {
      "cell_type": "markdown",
      "source": [
        "#### Step 4: Evaluate the model and report test accuracy"
      ],
      "metadata": {
        "id": "wSxMmT5OT3RH"
      }
    },
    {
      "cell_type": "code",
      "source": [
        "### Your code here"
      ],
      "metadata": {
        "id": "eG5CrVT_UD8_"
      },
      "execution_count": null,
      "outputs": []
    },
    {
      "cell_type": "markdown",
      "source": [
        "#### Step 5: Visualize. Display a few test images alongside their true and predicted labels"
      ],
      "metadata": {
        "id": "Q5lRXkoYUIKW"
      }
    },
    {
      "cell_type": "code",
      "source": [
        "### Your code here"
      ],
      "metadata": {
        "id": "ynsIVKE-UNAa"
      },
      "execution_count": null,
      "outputs": []
    }
  ]
}